{
  "nbformat": 4,
  "nbformat_minor": 0,
  "metadata": {
    "colab": {
      "provenance": []
    },
    "kernelspec": {
      "name": "python3",
      "display_name": "Python 3"
    },
    "language_info": {
      "name": "python"
    }
  },
  "cells": [
    {
      "cell_type": "markdown",
      "source": [
        "## Bagging Classifier\n",
        "\n",
        "\n",
        "\n",
        "*   Bagging Classifier is a machine learning technique which uses randomly selected data or features from the dataset to generate parallel model predictions and uses the mode of these predictions as the final result. This is done so as to reduce the variance of the model. \n",
        "\n",
        "* By default, the Bagging Classifier uses Decision Trees. The decision tree classifier makes classifications based on selected features. It starts at the root node and ends with a decision at the leaves. \n"
      ],
      "metadata": {
        "id": "OA_RQ8vIXY5k"
      }
    },
    {
      "cell_type": "code",
      "execution_count": 7,
      "metadata": {
        "id": "ORatEVBQZjG4"
      },
      "outputs": [],
      "source": [
        "# importing the base libraries\n",
        "\n",
        "import numpy as np\n",
        "import pandas as pd\n",
        "import seaborn as sns\n",
        "import matplotlib.pyplot as plt\n",
        "from sklearn.model_selection import train_test_split\n",
        "from sklearn.ensemble import BaggingClassifier"
      ]
    },
    {
      "cell_type": "markdown",
      "source": [
        "## Business Problem\n",
        "\n",
        "To predict the species of flowers based on its characteristics\n"
      ],
      "metadata": {
        "id": "8UwcBt7IgfME"
      }
    },
    {
      "cell_type": "markdown",
      "source": [
        "## Dataset\n",
        "\n",
        "This is perhaps the best known database to be found in the pattern recognition literature. Fisher's paper is a classic in the field and is referenced frequently to this day. (See Duda & Hart, for example.) The data set contains 3 classes of 50 instances each, where each class refers to a type of iris plant. One class is linearly separable from the other 2; the latter are NOT linearly separable from each other.\n",
        "\n",
        "Predicted attribute: class of iris plant.\n",
        "\n",
        "This is an exceedingly simple domain.\n",
        "\n",
        "This data differs from the data presented in Fishers article (identified by Steve Chadwick, spchadwick '@' espeedaz.net ). The 35th sample should be: 4.9,3.1,1.5,0.2,\"Iris-setosa\" where the error is in the fourth feature. The 38th sample: 4.9,3.6,1.4,0.1,\"Iris-setosa\" where the errors are in the second and third features.\n",
        "\n"
      ],
      "metadata": {
        "id": "TmZe8qZKgw_j"
      }
    },
    {
      "cell_type": "markdown",
      "source": [
        "## Features\n",
        "\n",
        "1) ID number\n",
        "\n",
        "1.   ID number\n",
        "2.   Diagnosis (M = malignant, B = benign)\n",
        "\n",
        "2) Diagnosis \n",
        "\n",
        "Ten real-valued features are computed for each cell nucleus:\n",
        "\n",
        "1. sepal length in cm\n",
        "2. sepal width in cm\n",
        "3. petal length in cm\n",
        "4. petal width in cm\n",
        "5. class\n"
      ],
      "metadata": {
        "id": "1EIlvKr6g7MD"
      }
    },
    {
      "cell_type": "code",
      "source": [
        "#load the dataset\n",
        "iris = sns.load_dataset('iris')\n",
        "Df = pd.DataFrame(iris)\n",
        "print(Df.head)"
      ],
      "metadata": {
        "colab": {
          "base_uri": "https://localhost:8080/"
        },
        "id": "15-9n2EFZoe-",
        "outputId": "feee1dd3-bb44-4100-d1c4-69d398a523b5"
      },
      "execution_count": 8,
      "outputs": [
        {
          "output_type": "stream",
          "name": "stdout",
          "text": [
            "<bound method NDFrame.head of      sepal_length  sepal_width  petal_length  petal_width    species\n",
            "0             5.1          3.5           1.4          0.2     setosa\n",
            "1             4.9          3.0           1.4          0.2     setosa\n",
            "2             4.7          3.2           1.3          0.2     setosa\n",
            "3             4.6          3.1           1.5          0.2     setosa\n",
            "4             5.0          3.6           1.4          0.2     setosa\n",
            "..            ...          ...           ...          ...        ...\n",
            "145           6.7          3.0           5.2          2.3  virginica\n",
            "146           6.3          2.5           5.0          1.9  virginica\n",
            "147           6.5          3.0           5.2          2.0  virginica\n",
            "148           6.2          3.4           5.4          2.3  virginica\n",
            "149           5.9          3.0           5.1          1.8  virginica\n",
            "\n",
            "[150 rows x 5 columns]>\n"
          ]
        }
      ]
    },
    {
      "cell_type": "code",
      "source": [
        "print(Df.columns)"
      ],
      "metadata": {
        "colab": {
          "base_uri": "https://localhost:8080/"
        },
        "id": "IFU06-FfZvpp",
        "outputId": "05251d21-cf81-4cdd-a415-7a70f20ac368"
      },
      "execution_count": 9,
      "outputs": [
        {
          "output_type": "stream",
          "name": "stdout",
          "text": [
            "Index(['sepal_length', 'sepal_width', 'petal_length', 'petal_width',\n",
            "       'species'],\n",
            "      dtype='object')\n"
          ]
        }
      ]
    },
    {
      "cell_type": "code",
      "source": [
        "y = Df['species']\n",
        "X = Df.drop('species', axis=1)"
      ],
      "metadata": {
        "id": "71VHJwYxZ7jT"
      },
      "execution_count": 10,
      "outputs": []
    },
    {
      "cell_type": "code",
      "source": [
        "print(X.columns)"
      ],
      "metadata": {
        "colab": {
          "base_uri": "https://localhost:8080/"
        },
        "id": "tQ72BtwQaGeS",
        "outputId": "5b5d07ce-4907-418d-f430-f2ad196727c6"
      },
      "execution_count": 11,
      "outputs": [
        {
          "output_type": "stream",
          "name": "stdout",
          "text": [
            "Index(['sepal_length', 'sepal_width', 'petal_length', 'petal_width'], dtype='object')\n"
          ]
        }
      ]
    },
    {
      "cell_type": "code",
      "source": [
        "# Doing the train test split for model validation\n",
        "X_train, X_test, y_train, y_test = train_test_split(X,y, test_size=0.33, random_state=42)\n"
      ],
      "metadata": {
        "id": "MYbXVH4PaHmQ"
      },
      "execution_count": 12,
      "outputs": []
    },
    {
      "cell_type": "code",
      "source": [
        "# instantiating the Bagging classifier\n",
        "\n",
        "model = BaggingClassifier(random_state = 42)"
      ],
      "metadata": {
        "id": "2suEiIyQaRa6"
      },
      "execution_count": 13,
      "outputs": []
    },
    {
      "cell_type": "code",
      "source": [
        "# fitting the model to the train data\n",
        "\n",
        "model.fit(X_train, y_train)"
      ],
      "metadata": {
        "colab": {
          "base_uri": "https://localhost:8080/"
        },
        "id": "6JzcXkC3at60",
        "outputId": "b0ad06aa-c732-4b4d-c02c-e0df8c45d72a"
      },
      "execution_count": 14,
      "outputs": [
        {
          "output_type": "execute_result",
          "data": {
            "text/plain": [
              "BaggingClassifier(random_state=42)"
            ]
          },
          "metadata": {},
          "execution_count": 14
        }
      ]
    },
    {
      "cell_type": "code",
      "source": [
        "# getting the train score\n",
        "\n",
        "model.score(X_train, y_train)"
      ],
      "metadata": {
        "id": "7B9ICOqWavzr",
        "outputId": "66a52f20-292a-4ecb-c31d-98111602b6f8",
        "colab": {
          "base_uri": "https://localhost:8080/"
        }
      },
      "execution_count": 15,
      "outputs": [
        {
          "output_type": "execute_result",
          "data": {
            "text/plain": [
              "0.99"
            ]
          },
          "metadata": {},
          "execution_count": 15
        }
      ]
    },
    {
      "cell_type": "code",
      "source": [
        "# getting the test score\n",
        "\n",
        "model.score(X_test, y_test)"
      ],
      "metadata": {
        "id": "kkrG5qnMax0F",
        "outputId": "641459d5-5813-4fee-990e-706d78b3643a",
        "colab": {
          "base_uri": "https://localhost:8080/"
        }
      },
      "execution_count": 16,
      "outputs": [
        {
          "output_type": "execute_result",
          "data": {
            "text/plain": [
              "1.0"
            ]
          },
          "metadata": {},
          "execution_count": 16
        }
      ]
    },
    {
      "cell_type": "code",
      "source": [],
      "metadata": {
        "id": "7BB3sOpJazWW"
      },
      "execution_count": 16,
      "outputs": []
    }
  ]
}